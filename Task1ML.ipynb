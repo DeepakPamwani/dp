{
  "nbformat": 4,
  "nbformat_minor": 0,
  "metadata": {
    "colab": {
      "name": "Task1ML.ipynb",
      "provenance": [],
      "authorship_tag": "ABX9TyMTTvBt7SYzNOy/jhp0gPoQ",
      "include_colab_link": true
    },
    "kernelspec": {
      "name": "python3",
      "display_name": "Python 3"
    },
    "language_info": {
      "name": "python"
    }
  },
  "cells": [
    {
      "cell_type": "markdown",
      "metadata": {
        "id": "view-in-github",
        "colab_type": "text"
      },
      "source": [
        "<a href=\"https://colab.research.google.com/github/DeepakPamwani/dp/blob/master/Task1ML.ipynb\" target=\"_parent\"><img src=\"https://colab.research.google.com/assets/colab-badge.svg\" alt=\"Open In Colab\"/></a>"
      ]
    },
    {
      "cell_type": "markdown",
      "metadata": {
        "id": "zo0mb1BIFhqs"
      },
      "source": [
        "1. We are having 3 list like this\n",
        "\n",
        "Colors = [“Yellow”,”Green”,”White”,”Black”]\n",
        "\n",
        "Fruits=[“Apple”,”Papaya”,”Mango”,”Orange”]\n",
        "\n",
        "Animals=[“Tiger”,”Lion”,”Deer”,”Zebra”]\n",
        "\n",
        "  i. Write a program that asks user to enter a Color/Fruit/Animal name and it should tell which category belongs to , like its is a fruit or color or Animal\n",
        "\n",
        " ii"
      ]
    },
    {
      "cell_type": "code",
      "metadata": {
        "colab": {
          "base_uri": "https://localhost:8080/"
        },
        "id": "bs7MURMNFiwI",
        "outputId": "54fe8c2f-6e56-40f3-c229-3b827e6c55de"
      },
      "source": [
        "Colors = ['Yellow', 'Green', 'White', 'Black']\n",
        "\n",
        "Fruits=['Apple','Papaya','Mango','Orange']\n",
        "\n",
        "Animals=['Tiger','Lion','Deer','Zebra']\n",
        "\n",
        "a = input('enter the name of color/fruit/animal')\n",
        "if a in Colors:\n",
        "  print('it is a Color')\n",
        "if a in  Fruits:\n",
        "  print('it is a fruit')\n",
        "if a in Animals:\n",
        "  print('it is an Animal')   \n"
      ],
      "execution_count": null,
      "outputs": [
        {
          "output_type": "stream",
          "text": [
            "enter the name of color/fruit/animalYellow\n",
            "it is a Color\n"
          ],
          "name": "stdout"
        }
      ]
    },
    {
      "cell_type": "markdown",
      "metadata": {
        "id": "wdCVgJSMJDX-"
      },
      "source": [
        "###ii. Write a program that asks user to enter two cities and it tells you if they both are in same country or not. For example if I enter yellow and Black, it will print \"Both are colors\" but if I enter yellow and Tiger it should print \"They don't belong to same category\""
      ]
    },
    {
      "cell_type": "code",
      "metadata": {
        "colab": {
          "base_uri": "https://localhost:8080/"
        },
        "id": "B9Hho5vMJEG9",
        "outputId": "62f8c350-a9f6-4fbe-b557-aa8c940eb67b"
      },
      "source": [
        "India = ['New Delhi', 'Mumbai', 'Jaipur', 'Mangalore', 'Gandhinager', 'Tezpur', 'Patna']\n",
        "Europe = ['Rome', 'Paris', 'Berlin', 'Munich', 'Oslo', 'London', 'Rotterdam']\n",
        "c = input('Enter the First City Name:')\n",
        "d = input('enter the second City Name:')\n",
        "if c and d in India:\n",
        "  print('both are in same country')\n",
        "if c and d in Europe:\n",
        "  print('both are in same country')\n",
        "else:\n",
        "  print('both are not belong to same country')    \n",
        "\n"
      ],
      "execution_count": null,
      "outputs": [
        {
          "output_type": "stream",
          "text": [
            "Enter the First City Name:Mumbai\n",
            "enter the second City Name:Patna\n",
            "both are in same country\n",
            "both are not belong to same country\n"
          ],
          "name": "stdout"
        }
      ]
    },
    {
      "cell_type": "code",
      "metadata": {
        "id": "SieW7gn1Nlfc"
      },
      "source": [
        ""
      ],
      "execution_count": null,
      "outputs": []
    },
    {
      "cell_type": "markdown",
      "metadata": {
        "id": "-CvKTAxgtRHj"
      },
      "source": [
        "#2.  Write a python program that can tell you if your grade score good or not . Normal Score range is 40 to 60.\n",
        "\n",
        "  i. Ask user to enter his score.\n",
        "\n",
        "  ii. If it is below 40 to 60 range then print that score is low\n",
        "\n",
        "  iii. If it is above 60 then print that it is good otherwise print that it is normal"
      ]
    },
    {
      "cell_type": "code",
      "metadata": {
        "colab": {
          "base_uri": "https://localhost:8080/"
        },
        "id": "3wmNq58wtPzu",
        "outputId": "965ea6d3-d070-4650-a797-23881df60090"
      },
      "source": [
        "m = int(input('enter your score:'))\n",
        "if m<40:\n",
        "  print('Score is low')\n",
        "if m>40  and m<60:\n",
        "  print('score is low')\n",
        "if m>60:\n",
        "  print('score is good')    "
      ],
      "execution_count": 42,
      "outputs": [
        {
          "output_type": "stream",
          "text": [
            "enter your score:35\n",
            "Score is low\n"
          ],
          "name": "stdout"
        }
      ]
    },
    {
      "cell_type": "markdown",
      "metadata": {
        "id": "jRwM6BU3Nmrt"
      },
      "source": [
        "3.  After appearing in exam 10 times you got this result,\n",
        "\n",
        "result = [\"Pass\",\"Fail\",\"Fail\",\"Pass\",\"Fail\",\"Pass\",\"Pass\",\"Fail\",\"Fail\",\"Fail\"]\n",
        "\n",
        "Using for loop figure out how many times you got Pass"
      ]
    },
    {
      "cell_type": "code",
      "metadata": {
        "colab": {
          "base_uri": "https://localhost:8080/"
        },
        "id": "Pq1pAO-JNnSv",
        "outputId": "7ba7586c-c563-4cb4-dd51-0065fac784d1"
      },
      "source": [
        "result = ['Pass', 'Fail', 'Fail', 'Pass','Fail', 'Pass','Pass', 'Fail', 'Fail', 'Fail']\n",
        "for i in range(len(result)):\n",
        "  if result[i]=='Fail':\n",
        "    pass\n",
        "  else:\n",
        "    print(len(result[i]))\n",
        "    \n"
      ],
      "execution_count": 31,
      "outputs": [
        {
          "output_type": "stream",
          "text": [
            "4\n",
            "4\n",
            "4\n",
            "4\n"
          ],
          "name": "stdout"
        }
      ]
    },
    {
      "cell_type": "code",
      "metadata": {
        "colab": {
          "base_uri": "https://localhost:8080/"
        },
        "id": "qp1yebRVOODw",
        "outputId": "fb32e1e0-7a8c-4c2b-bec9-840c2f7cc9d3"
      },
      "source": [
        "result = ['Pass', 'Fail', 'Fail', 'Pass','Fail', 'Pass','Pass', 'Fail', 'Fail', 'Fail']\n",
        "for i in range(len(result)):\n",
        "  if result[i]=='Pass':\n",
        "    print(len(result[i]))\n"
      ],
      "execution_count": 8,
      "outputs": [
        {
          "output_type": "stream",
          "text": [
            "4\n",
            "4\n",
            "4\n",
            "4\n"
          ],
          "name": "stdout"
        }
      ]
    },
    {
      "cell_type": "code",
      "metadata": {
        "id": "l2idMrdnTQB4"
      },
      "source": [
        ""
      ],
      "execution_count": null,
      "outputs": []
    },
    {
      "cell_type": "markdown",
      "metadata": {
        "id": "NbJcuA0neHrR"
      },
      "source": [
        "#4.  Write a program that prints following shape\n",
        "\n",
        "*\n",
        "\n",
        "* *\n",
        "\n",
        "* * *\n",
        "\n",
        "* * * *\n",
        "\n",
        "* * * * *\n",
        "\n",
        "* * * *\n",
        "\n",
        "* * *\n",
        "\n",
        "* *\n",
        "\n",
        "*\n",
        "\n"
      ]
    },
    {
      "cell_type": "code",
      "metadata": {
        "colab": {
          "base_uri": "https://localhost:8080/"
        },
        "id": "00AXsKegeY1q",
        "outputId": "51128b4c-20d0-4fd0-e1ca-b8a00eb077f5"
      },
      "source": [
        "n = int(input('enter the number of row:'))\n",
        "for i in range(n):\n",
        "  print(\"*\"*i, end = \" \")\n",
        "  print()\n",
        "for j in range(n):\n",
        "  print(\"*\"*(n-j), end = ' ')\n",
        "  print()  \n"
      ],
      "execution_count": 30,
      "outputs": [
        {
          "output_type": "stream",
          "text": [
            "enter the number of row:5\n",
            " \n",
            "* \n",
            "** \n",
            "*** \n",
            "**** \n",
            "***** \n",
            "**** \n",
            "*** \n",
            "** \n",
            "* \n"
          ],
          "name": "stdout"
        }
      ]
    },
    {
      "cell_type": "code",
      "metadata": {
        "id": "Zf_Nc7s7fRTo"
      },
      "source": [
        ""
      ],
      "execution_count": null,
      "outputs": []
    },
    {
      "cell_type": "markdown",
      "metadata": {
        "id": "iaqFZk-Gph1j"
      },
      "source": [
        "#6.  Write a Python program to find those numbers which are divisible by 7 and multiple of 5, between 1500 and 2700 (both included)."
      ]
    },
    {
      "cell_type": "code",
      "metadata": {
        "colab": {
          "base_uri": "https://localhost:8080/"
        },
        "id": "GH7TN6glpiua",
        "outputId": "a7c62484-de22-4f2c-9dcf-3493136a31be"
      },
      "source": [
        "for i in range(1500,2701):\n",
        "  if (i % 7==0) and (i%5==0):\n",
        "    print(i, end = ' ')"
      ],
      "execution_count": 34,
      "outputs": [
        {
          "output_type": "stream",
          "text": [
            "1505 1540 1575 1610 1645 1680 1715 1750 1785 1820 1855 1890 1925 1960 1995 2030 2065 2100 2135 2170 2205 2240 2275 2310 2345 2380 2415 2450 2485 2520 2555 2590 2625 2660 2695 "
          ],
          "name": "stdout"
        }
      ]
    },
    {
      "cell_type": "code",
      "metadata": {
        "id": "w-HwWpEnqZEO"
      },
      "source": [
        " "
      ],
      "execution_count": null,
      "outputs": []
    },
    {
      "cell_type": "markdown",
      "metadata": {
        "id": "pnVQaISlqppI"
      },
      "source": [
        "#7.   Print square of all numbers between 10 to 20 except even numbers"
      ]
    },
    {
      "cell_type": "code",
      "metadata": {
        "colab": {
          "base_uri": "https://localhost:8080/"
        },
        "id": "Txb_pjwaqqoS",
        "outputId": "56eaec07-30ee-4ff2-8232-274a850e1b19"
      },
      "source": [
        "for i in range(10,21):\n",
        "  if i%2==0:\n",
        "    pass\n",
        "  else:\n",
        "    print(i*i, end =\" \")  "
      ],
      "execution_count": 35,
      "outputs": [
        {
          "output_type": "stream",
          "text": [
            "121 169 225 289 361 "
          ],
          "name": "stdout"
        }
      ]
    },
    {
      "cell_type": "code",
      "metadata": {
        "id": "Du_bpDOmq6WP"
      },
      "source": [
        ""
      ],
      "execution_count": null,
      "outputs": []
    },
    {
      "cell_type": "markdown",
      "metadata": {
        "id": "FJ-X8FrQrLAO"
      },
      "source": [
        "#8.  Your Marks for five Test(test1 to test5) looks like this,\n",
        "\n",
        "marks_list = [65, 75, 2100, 95, 83]\n",
        "\n",
        "Write a program that asks you to enter marks and program should tell you in which test that marks occurred. If marks is not found then it should print that as well"
      ]
    },
    {
      "cell_type": "code",
      "metadata": {
        "colab": {
          "base_uri": "https://localhost:8080/"
        },
        "id": "IemTW-_yrLsD",
        "outputId": "56deac0b-fb4f-4181-a8c6-1ab4158ec279"
      },
      "source": [
        "\n",
        "marks_list = [65, 75, 2100, 95, 83]\n",
        "p = int(input('Enter your marks:'))\n",
        "if p ==65:\n",
        "  print(\"you marks for Test 1\",p)\n",
        "if p==75:\n",
        "  print('Your makrs for Test2', p)\n",
        "if p ==2100:\n",
        "  print('Your makrs for Test3', p)\n",
        "if p ==95:\n",
        "  print('Your makrs for Test4', p)\n",
        "if p ==83:\n",
        "  print('Your makrs for Test2', p)\n",
        "if p not in marks_list:\n",
        "  print('Marks not found')         "
      ],
      "execution_count": 41,
      "outputs": [
        {
          "output_type": "stream",
          "text": [
            "Enter your marks:88\n",
            "Marks not found\n"
          ],
          "name": "stdout"
        }
      ]
    },
    {
      "cell_type": "code",
      "metadata": {
        "id": "dLK5UmxGsTRQ"
      },
      "source": [
        ""
      ],
      "execution_count": null,
      "outputs": []
    }
  ]
}