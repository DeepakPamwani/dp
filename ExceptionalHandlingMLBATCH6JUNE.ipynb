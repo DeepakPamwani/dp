{
  "nbformat": 4,
  "nbformat_minor": 0,
  "metadata": {
    "colab": {
      "name": "ExceptionalHandlingMLBATCH6JUNE.ipynb",
      "provenance": [],
      "authorship_tag": "ABX9TyMiWPu55h93pYjiFLgsqajc",
      "include_colab_link": true
    },
    "kernelspec": {
      "name": "python3",
      "display_name": "Python 3"
    }
  },
  "cells": [
    {
      "cell_type": "markdown",
      "metadata": {
        "id": "view-in-github",
        "colab_type": "text"
      },
      "source": [
        "<a href=\"https://colab.research.google.com/github/DeepakPamwani/dp/blob/master/ExceptionalHandlingMLBATCH6JUNE.ipynb\" target=\"_parent\"><img src=\"https://colab.research.google.com/assets/colab-badge.svg\" alt=\"Open In Colab\"/></a>"
      ]
    },
    {
      "cell_type": "markdown",
      "metadata": {
        "id": "8dR4OFpeclHD",
        "colab_type": "text"
      },
      "source": [
        "1. Write a function to compute 5/0 and use try/except to catch the exceptions."
      ]
    },
    {
      "cell_type": "code",
      "metadata": {
        "id": "ziFNMU7Uclzn",
        "colab_type": "code",
        "colab": {
          "base_uri": "https://localhost:8080/",
          "height": 35
        },
        "outputId": "a40fd5c3-452c-42ba-feb0-fce4c9d2304a"
      },
      "source": [
        "# First we create the divional function\n",
        "\n",
        "def divisional(a,b):\n",
        "  return a/b\n",
        "\n",
        " # now we use try & except for given expression\n",
        "\n",
        "try:\n",
        "  divisional(5,0)\n",
        "except:\n",
        "  print(\"Amazing! you are doing a great job\")                        \n"
      ],
      "execution_count": 32,
      "outputs": [
        {
          "output_type": "stream",
          "text": [
            "Amazing! you are doing a great job\n"
          ],
          "name": "stdout"
        }
      ]
    },
    {
      "cell_type": "code",
      "metadata": {
        "id": "9x4sToHydT5c",
        "colab_type": "code",
        "colab": {}
      },
      "source": [
        ""
      ],
      "execution_count": null,
      "outputs": []
    },
    {
      "cell_type": "markdown",
      "metadata": {
        "id": "oKn1PQAIdaWN",
        "colab_type": "text"
      },
      "source": [
        "2. Implement a Python program to generate all sentences where subject is in\n",
        "[\"Americans\", \"Indians\"] and verb is in [\"Play\", \"watch\"] and the object is in\n",
        "[\"Baseball\",\"cricket\"].    \n",
        "    \n",
        "Hint: Subject,Verb and Object should be declared in the program as shown below.\n",
        "subjects= [\"Americans \",\"Indians\"]\n",
        "verbs=  [\"play\",\"watch\"]\n",
        "objects=  [\"Baseball\",\"Cricket\"]\n",
        "\n",
        "\n",
        "Output should come as below:\n",
        "Americans play Baseball.\n",
        "Americans play Cricket.\n",
        "Americans watch Baseball.\n",
        "Americans watch Cricket.\n",
        "Indians play Baseball.\n",
        "Indians play Cricket.\n",
        "Indians watch Baseball.\n",
        "Indians watch Cricket.\n"
      ]
    },
    {
      "cell_type": "code",
      "metadata": {
        "id": "JEcu_HXndiU1",
        "colab_type": "code",
        "colab": {
          "base_uri": "https://localhost:8080/",
          "height": 164
        },
        "outputId": "cee3eef9-21c4-432b-b89a-5945f0661804"
      },
      "source": [
        "subjects = [\"Americans\", \"Indians\"]\n",
        "verbs = [\"Play\", \"watch\"]\n",
        "objects = [\"Baseball\",\"cricket\"]\n",
        "\n",
        "k = [(a+\" \" +b+ \" \"+c) for a in subjects for b in verbs for c in objects]\n",
        "for i in k:\n",
        "  print(i)"
      ],
      "execution_count": 37,
      "outputs": [
        {
          "output_type": "stream",
          "text": [
            "Americans Play Baseball\n",
            "Americans Play cricket\n",
            "Americans watch Baseball\n",
            "Americans watch cricket\n",
            "Indians Play Baseball\n",
            "Indians Play cricket\n",
            "Indians watch Baseball\n",
            "Indians watch cricket\n"
          ],
          "name": "stdout"
        }
      ]
    },
    {
      "cell_type": "code",
      "metadata": {
        "id": "q3-fEk4leZVB",
        "colab_type": "code",
        "colab": {}
      },
      "source": [
        ""
      ],
      "execution_count": null,
      "outputs": []
    }
  ]
}