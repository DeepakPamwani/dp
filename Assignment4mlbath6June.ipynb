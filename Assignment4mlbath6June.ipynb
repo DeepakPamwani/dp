{
  "nbformat": 4,
  "nbformat_minor": 0,
  "metadata": {
    "colab": {
      "name": "Assignment4mlbath6June.ipynb",
      "provenance": [],
      "authorship_tag": "ABX9TyOcsZf//fq+hvPrn+i66jvI",
      "include_colab_link": true
    },
    "kernelspec": {
      "name": "python3",
      "display_name": "Python 3"
    }
  },
  "cells": [
    {
      "cell_type": "markdown",
      "metadata": {
        "id": "view-in-github",
        "colab_type": "text"
      },
      "source": [
        "<a href=\"https://colab.research.google.com/github/DeepakPamwani/dp/blob/master/Assignment4mlbath6June.ipynb\" target=\"_parent\"><img src=\"https://colab.research.google.com/assets/colab-badge.svg\" alt=\"Open In Colab\"/></a>"
      ]
    },
    {
      "cell_type": "code",
      "metadata": {
        "id": "M8x1klaSCEIG",
        "colab_type": "code",
        "colab": {}
      },
      "source": [
        "   "
      ],
      "execution_count": null,
      "outputs": []
    },
    {
      "cell_type": "markdown",
      "metadata": {
        "id": "-X4bNEKHEPRN",
        "colab_type": "text"
      },
      "source": [
        "#\n",
        "1.1 Write a Python Program(with class concepts) to find the area of the triangle using the below\n",
        "formula.\n",
        "area = (s*(s-a)*(s-b)*(s-c)) ** 0.5\n",
        "Function to take the length of the sides of triangle from user should be defined in the parent\n",
        "class and function to calculate the area should be defined in subclass.\n",
        "'''\n"
      ]
    },
    {
      "cell_type": "code",
      "metadata": {
        "id": "U1eXiHtzEcT-",
        "colab_type": "code",
        "colab": {
          "base_uri": "https://localhost:8080/",
          "height": 35
        },
        "outputId": "e19a3756-6d11-4696-9ba5-038d4481fe7f"
      },
      "source": [
        "\n",
        "class Polygon:\n",
        "\n",
        "    def __init__(self, n):\n",
        "        self.number_of_sides = n\n",
        "\n",
        "    def print_num_sides(self):\n",
        "        \n",
        "        print('There are ' + str(self.number_of_sides) + ' sides.')\n",
        "        \n",
        "class Triangle(Polygon):\n",
        "\n",
        "    def __init__(self, lengths_of_sides):\n",
        "        Polygon.__init__(self, 3)\n",
        "        self.lengths_of_sides = lengths_of_sides  \n",
        "\n",
        "    def get_area(self):\n",
        "        '''return the area of the triangle using the semi-perimeter method'''\n",
        "        a, b, c = self.lengths_of_sides\n",
        "\n",
        "        # calculate the semi-perimeter\n",
        "        s = (a + b + c) / 2\n",
        "        return (s*(s-a)*(s-b)*(s-c)) ** 0.5\n",
        "    \n",
        "\n",
        "tri = Triangle([3, 4, 5])\n",
        "print(tri.get_area())"
      ],
      "execution_count": null,
      "outputs": [
        {
          "output_type": "stream",
          "text": [
            "6.0\n"
          ],
          "name": "stdout"
        }
      ]
    },
    {
      "cell_type": "code",
      "metadata": {
        "id": "DpZLc9t-ErZ0",
        "colab_type": "code",
        "colab": {}
      },
      "source": [
        ""
      ],
      "execution_count": null,
      "outputs": []
    },
    {
      "cell_type": "markdown",
      "metadata": {
        "id": "pbl-kiIRE_8m",
        "colab_type": "text"
      },
      "source": [
        "# \n",
        "1.2 Write a function filter_long_words() that takes a list of words and an integer n and returns\n",
        "the list of words that are longer than n.\n",
        "'''"
      ]
    },
    {
      "cell_type": "code",
      "metadata": {
        "id": "tQ9zXH09FD2J",
        "colab_type": "code",
        "colab": {
          "base_uri": "https://localhost:8080/",
          "height": 35
        },
        "outputId": "292331a2-8c8e-42cc-d384-6e0692f2cb9a"
      },
      "source": [
        "def filter_long_words(words, n):\n",
        "    return filter(lambda x: len(x) > n, words)\n",
        "\n",
        "\n",
        "list(filter_long_words(['trust', 'ab', 'should'], 3))            "
      ],
      "execution_count": null,
      "outputs": [
        {
          "output_type": "execute_result",
          "data": {
            "text/plain": [
              "['trust', 'should']"
            ]
          },
          "metadata": {
            "tags": []
          },
          "execution_count": 2
        }
      ]
    },
    {
      "cell_type": "code",
      "metadata": {
        "id": "Kz4qGQMEFeJ3",
        "colab_type": "code",
        "colab": {}
      },
      "source": [
        ""
      ],
      "execution_count": null,
      "outputs": []
    },
    {
      "cell_type": "markdown",
      "metadata": {
        "id": "N6gBEuy3Fs7K",
        "colab_type": "text"
      },
      "source": [
        "#2.1 Write a Python program using function concept that maps list of words into a list of integers\n",
        "representing the lengths of the corresponding words.\n",
        "Hint: If a list [ ab,cde,erty] is passed on to the python function output should come as [2,3,4]\n",
        "Here 2,3 and 4 are the lengths of the words in the list.\n"
      ]
    },
    {
      "cell_type": "code",
      "metadata": {
        "id": "zFjl6X4mFu9J",
        "colab_type": "code",
        "colab": {
          "base_uri": "https://localhost:8080/",
          "height": 35
        },
        "outputId": "bcd44bcd-18e1-4b20-a7a1-846b531fdc61"
      },
      "source": [
        "words = ['ab', 'cde', 'erty']\n",
        "\n",
        "def wordlengh(words):\n",
        "  return list(map(lambda x: len(x),words))\n",
        "\n",
        "print(str(wordlengh(words)))  "
      ],
      "execution_count": null,
      "outputs": [
        {
          "output_type": "stream",
          "text": [
            "[2, 3, 4]\n"
          ],
          "name": "stdout"
        }
      ]
    },
    {
      "cell_type": "code",
      "metadata": {
        "id": "t2tWhdmvHLOz",
        "colab_type": "code",
        "colab": {}
      },
      "source": [
        ""
      ],
      "execution_count": null,
      "outputs": []
    },
    {
      "cell_type": "markdown",
      "metadata": {
        "id": "M5YVxJGAHX_v",
        "colab_type": "text"
      },
      "source": [
        "2.2 Write a Python function which takes a character (i.e. a string of length 1) and returns True if it is a vowel, False otherwise"
      ]
    },
    {
      "cell_type": "code",
      "metadata": {
        "id": "t_MirabrHUrK",
        "colab_type": "code",
        "colab": {}
      },
      "source": [
        "def vowel(char):\n",
        "  if char.upper() in 'AIEOU':\n",
        "    return True\n",
        "  if char.lower() in 'aieou':\n",
        "    return True\n",
        "  else:\n",
        "    return False  \n"
      ],
      "execution_count": null,
      "outputs": []
    },
    {
      "cell_type": "code",
      "metadata": {
        "id": "Mu6RrF-mICWT",
        "colab_type": "code",
        "colab": {
          "base_uri": "https://localhost:8080/",
          "height": 90
        },
        "outputId": "ab944e3d-05f1-4e98-bee9-fb3cbe72baad"
      },
      "source": [
        "print(vowel('A'))\n",
        "print(vowel('2'))\n",
        "print(vowel('d'))\n",
        "print(vowel('u'))"
      ],
      "execution_count": null,
      "outputs": [
        {
          "output_type": "stream",
          "text": [
            "True\n",
            "False\n",
            "False\n",
            "True\n"
          ],
          "name": "stdout"
        }
      ]
    },
    {
      "cell_type": "code",
      "metadata": {
        "id": "OW4nw58SIjSi",
        "colab_type": "code",
        "colab": {}
      },
      "source": [
        ""
      ],
      "execution_count": null,
      "outputs": []
    }
  ]
}